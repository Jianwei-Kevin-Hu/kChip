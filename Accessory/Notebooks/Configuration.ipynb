{
 "cells": [
  {
   "cell_type": "markdown",
   "metadata": {},
   "source": [
    "# Generate configuration files for each chip\n",
    "\n",
    "The experiment contains the following chips:\n",
    "\n",
    "* Chip1 (k1)\n",
    "* Chip2 (k1)\n",
    "\n",
    "From the template configuration file, we need to change the following for each chip: \n",
    "- image[base_path] -> append Chip# subdirectory\n",
    "- image[names] -> Chip#\n",
    "\n",
    "And add in the following from generator\n",
    "- image[well_start_image]\n",
    "- image[well_start_xy]\n",
    "- well_mask"
   ]
  },
  {
   "cell_type": "markdown",
   "metadata": {},
   "source": [
    "## Generate configuration files"
   ]
  },
  {
   "cell_type": "code",
   "execution_count": 1,
   "metadata": {},
   "outputs": [],
   "source": [
    "import yaml \n",
    "import copy\n",
    "from os import path, mkdir"
   ]
  },
  {
   "cell_type": "code",
   "execution_count": 2,
   "metadata": {
    "scrolled": true
   },
   "outputs": [
    {
     "name": "stdout",
     "output_type": "stream",
     "text": [
      "barcodes:\n",
      "  cluster:\n",
      "    eps: 0.01\n",
      "    min_samples: 10\n",
      "    offset:\n",
      "    - 600\n",
      "    - 600\n",
      "    - 600\n",
      "    points_to_cluster: 2000\n",
      "  path: Notes.xlsx\n",
      "image:\n",
      "  base_path: ../Chip24_data/Image Data\n",
      "  bugs: 0\n",
      "  dyes:\n",
      "  - 1\n",
      "  - 3\n",
      "  - 2\n",
      "  names:\n",
      "    premerge: Chip24_premerge\n",
      "    t0: Chip24_t0\n",
      "    t1: Chip24_t1\n",
      "    t2: Chip24_t2\n",
      "  overlap: 0.05\n",
      "  pixel_size: 6.5\n",
      "  size: 1024\n",
      "  well_start_image:\n",
      "  - 1\n",
      "  - 1\n",
      "  well_start_xy:\n",
      "  - 518\n",
      "  - 434\n",
      "well_mask:\n",
      "  filename: kchip/Accessory/Well Masks/k2_mask.tif\n",
      "  pixel_size: 8.33625\n",
      "  well_start_xy:\n",
      "  - 242\n",
      "  - 378\n",
      "\n",
      "Chip1:\n",
      "  image:\n",
      "    well_start_image:\n",
      "    - 1\n",
      "    - 1\n",
      "    well_start_xy:\n",
      "    - 350\n",
      "    - 350\n",
      "  well_mask:\n",
      "    filename: ../Well Masks/k1_mask.tif\n",
      "    pixel_size: 8.33625\n",
      "    well_start_xy:\n",
      "    - 182\n",
      "    - 202\n",
      "Chip2:\n",
      "  image:\n",
      "    well_start_image:\n",
      "    - 1\n",
      "    - 1\n",
      "    well_start_xy:\n",
      "    - 525\n",
      "    - 320\n",
      "  well_mask:\n",
      "    filename: ../Well Masks/k1_mask.tif\n",
      "    pixel_size: 8.33625\n",
      "    well_start_xy:\n",
      "    - 182\n",
      "    - 202\n",
      "\n"
     ]
    },
    {
     "name": "stderr",
     "output_type": "stream",
     "text": [
      "/Users/mandy/Library/Python/2.7/lib/python/site-packages/ipykernel_launcher.py:2: YAMLLoadWarning: calling yaml.load() without Loader=... is deprecated, as the default Loader is unsafe. Please read https://msg.pyyaml.org/load for full details.\n",
      "  \n",
      "/Users/mandy/Library/Python/2.7/lib/python/site-packages/ipykernel_launcher.py:5: YAMLLoadWarning: calling yaml.load() without Loader=... is deprecated, as the default Loader is unsafe. Please read https://msg.pyyaml.org/load for full details.\n",
      "  \"\"\"\n"
     ]
    }
   ],
   "source": [
    "with open('../Chip24_data/config24.yml', 'r') as ymlfile:\n",
    "    template = yaml.load(ymlfile)\n",
    "\n",
    "with open('../config/generator.yml', 'r') as ymlfile:\n",
    "    generator = yaml.load(ymlfile)\n",
    "    \n",
    "print yaml.dump(template)\n",
    "print yaml.dump(generator)"
   ]
  },
  {
   "cell_type": "code",
   "execution_count": 3,
   "metadata": {},
   "outputs": [],
   "source": [
    "# Create base analysis directory\n",
    "base = '../Chip24_data/Image Data'\n",
    "\n",
    "if not path.exists(base):\n",
    "    mkdir(base)\n",
    "    \n",
    "# Create directories\n",
    "for chip in generator.keys():\n",
    "\n",
    "    if not path.exists(path.join(base,chip)):\n",
    "        mkdir(path.join(base,chip))\n",
    "\n",
    "    if not path.exists(path.join(base,chip)):\n",
    "        mkdir(path.join(base,chip))"
   ]
  },
  {
   "cell_type": "code",
   "execution_count": 4,
   "metadata": {},
   "outputs": [],
   "source": [
    "for chip in generator.keys():\n",
    "\n",
    "    config = copy.deepcopy(template)\n",
    "\n",
    "    try: \n",
    "        config['image']['base_path'] = path.join(config['image']['base_path'],chip)\n",
    "\n",
    "        for name in config['image']['names'].keys():\n",
    "            config['image']['names'][name] = config['image']['names'][name].replace('Chip1',chip)\n",
    "\n",
    "        config['image']['well_start_image'] = generator[chip]['image']['well_start_image']\n",
    "        config['image']['well_start_xy'] = generator[chip]['image']['well_start_xy']\n",
    "        config['well_mask'] = generator[chip]['well_mask']\n",
    "\n",
    "        with open(path.join(base,chip,'config.yml'), 'w') as outfile:\n",
    "            yaml.dump(config, outfile,default_flow_style=False)\n",
    "    except:\n",
    "        print 'Error on:', chip"
   ]
  },
  {
   "cell_type": "markdown",
   "metadata": {
    "collapsed": true
   },
   "source": [
    "## Setup jupyter notebooks for each chip\n",
    "\n",
    "Use Analysis_template.ipynb as template"
   ]
  },
  {
   "cell_type": "code",
   "execution_count": 7,
   "metadata": {},
   "outputs": [],
   "source": [
    "import nbformat\n",
    "from nbconvert.preprocessors import ExecutePreprocessor\n",
    "\n",
    "def create_notebook(template):\n",
    "    ''' Create output notebook from template '''\n",
    "\n",
    "    with open(template) as f:\n",
    "        nb = nbformat.read(f, as_version=4)\n",
    "\n",
    "    return nb\n",
    "\n",
    "def execute_notebook(nb):\n",
    "    ''' Execute notebook (returns in place) kernel=python2'''\n",
    "    ep = ExecutePreprocessor(timeout=600, kernel_name='python2')\n",
    "    ep.preprocess(nb,{'metadata': {'path': './'}})\n",
    "\n",
    "def write_notebook(nb,output_path):\n",
    "    ''' Write notebok file '''\n",
    "    with open(output_path, 'wt') as f:\n",
    "        nbformat.write(nb, f)\n"
   ]
  },
  {
   "cell_type": "code",
   "execution_count": 11,
   "metadata": {},
   "outputs": [
    {
     "name": "stdout",
     "output_type": "stream",
     "text": [
      "Chip2\n",
      "Creating...\n"
     ]
    },
    {
     "ename": "IOError",
     "evalue": "[Errno 2] No such file or directory: 'Analysis_Template.ipynb'",
     "output_type": "error",
     "traceback": [
      "\u001b[0;31m---------------------------------------------------------------------------\u001b[0m",
      "\u001b[0;31mIOError\u001b[0m                                   Traceback (most recent call last)",
      "\u001b[0;32m<ipython-input-11-2f95cd32ed72>\u001b[0m in \u001b[0;36m<module>\u001b[0;34m()\u001b[0m\n\u001b[1;32m      7\u001b[0m     \u001b[0;32mprint\u001b[0m \u001b[0;34m'Creating...'\u001b[0m\u001b[0;34m\u001b[0m\u001b[0m\n\u001b[1;32m      8\u001b[0m     \u001b[0;31m# Create from template\u001b[0m\u001b[0;34m\u001b[0m\u001b[0;34m\u001b[0m\u001b[0m\n\u001b[0;32m----> 9\u001b[0;31m     \u001b[0mnb\u001b[0m \u001b[0;34m=\u001b[0m \u001b[0mcreate_notebook\u001b[0m\u001b[0;34m(\u001b[0m\u001b[0mtemplate\u001b[0m\u001b[0;34m)\u001b[0m\u001b[0;34m\u001b[0m\u001b[0m\n\u001b[0m\u001b[1;32m     10\u001b[0m \u001b[0;34m\u001b[0m\u001b[0m\n\u001b[1;32m     11\u001b[0m     \u001b[0;32mprint\u001b[0m \u001b[0;34m'Moving to... '\u001b[0m\u001b[0;34m\u001b[0m\u001b[0m\n",
      "\u001b[0;32m<ipython-input-7-b815897af3a8>\u001b[0m in \u001b[0;36mcreate_notebook\u001b[0;34m(template)\u001b[0m\n\u001b[1;32m      5\u001b[0m     \u001b[0;34m''' Create output notebook from template '''\u001b[0m\u001b[0;34m\u001b[0m\u001b[0m\n\u001b[1;32m      6\u001b[0m \u001b[0;34m\u001b[0m\u001b[0m\n\u001b[0;32m----> 7\u001b[0;31m     \u001b[0;32mwith\u001b[0m \u001b[0mopen\u001b[0m\u001b[0;34m(\u001b[0m\u001b[0mtemplate\u001b[0m\u001b[0;34m)\u001b[0m \u001b[0;32mas\u001b[0m \u001b[0mf\u001b[0m\u001b[0;34m:\u001b[0m\u001b[0;34m\u001b[0m\u001b[0m\n\u001b[0m\u001b[1;32m      8\u001b[0m         \u001b[0mnb\u001b[0m \u001b[0;34m=\u001b[0m \u001b[0mnbformat\u001b[0m\u001b[0;34m.\u001b[0m\u001b[0mread\u001b[0m\u001b[0;34m(\u001b[0m\u001b[0mf\u001b[0m\u001b[0;34m,\u001b[0m \u001b[0mas_version\u001b[0m\u001b[0;34m=\u001b[0m\u001b[0;36m4\u001b[0m\u001b[0;34m)\u001b[0m\u001b[0;34m\u001b[0m\u001b[0m\n\u001b[1;32m      9\u001b[0m \u001b[0;34m\u001b[0m\u001b[0m\n",
      "\u001b[0;31mIOError\u001b[0m: [Errno 2] No such file or directory: 'Analysis_Template.ipynb'"
     ]
    }
   ],
   "source": [
    "template = 'Analysis_Template.ipynb'\n",
    "from os import chdir\n",
    "\n",
    "for chip in generator.keys():\n",
    "    print chip\n",
    "\n",
    "    print 'Creating...'\n",
    "    # Create from template\n",
    "    nb = create_notebook(template)\n",
    "\n",
    "    print 'Moving to... '\n",
    "    chdir(path.join(base,chip))\n",
    "\n",
    "    print 'Executing...'\n",
    "\n",
    "    try: \n",
    "        # Execute\n",
    "        execute_notebook(nb)\n",
    "\n",
    "    except Exception as e:\n",
    "        print 'Error executing.'\n",
    "        print e\n",
    "\n",
    "    print 'Writing...'\n",
    "    # Write\n",
    "    outfile = 'Analysis.ipynb'\n",
    "    write_notebook(nb,outfile)"
   ]
  },
  {
   "cell_type": "code",
   "execution_count": null,
   "metadata": {},
   "outputs": [],
   "source": []
  }
 ],
 "metadata": {
  "kernelspec": {
   "display_name": "Python 2",
   "language": "python",
   "name": "python2"
  },
  "language_info": {
   "codemirror_mode": {
    "name": "ipython",
    "version": 2
   },
   "file_extension": ".py",
   "mimetype": "text/x-python",
   "name": "python",
   "nbconvert_exporter": "python",
   "pygments_lexer": "ipython2",
   "version": "2.7.16"
  },
  "toc": {
   "base_numbering": 1,
   "nav_menu": {},
   "number_sections": true,
   "sideBar": true,
   "skip_h1_title": false,
   "title_cell": "Table of Contents",
   "title_sidebar": "Contents",
   "toc_cell": false,
   "toc_position": {},
   "toc_section_display": true,
   "toc_window_display": false
  }
 },
 "nbformat": 4,
 "nbformat_minor": 2
}
