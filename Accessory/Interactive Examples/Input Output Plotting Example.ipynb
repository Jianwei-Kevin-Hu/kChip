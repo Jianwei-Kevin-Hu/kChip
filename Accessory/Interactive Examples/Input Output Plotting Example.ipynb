{
 "cells": [
  {
   "cell_type": "markdown",
   "metadata": {},
   "source": [
    "# Input/Output Plotting example\n",
    "\n",
    "Here we will use the new interactive tool for input / output plotting. \n",
    "\n",
    "You can append this to your workflow, or for any DataFrame, to explore correlations between values in different columns. "
   ]
  },
  {
   "cell_type": "markdown",
   "metadata": {},
   "source": [
    "## Imports and Initialization\n"
   ]
  },
  {
   "cell_type": "code",
   "execution_count": 3,
   "metadata": {},
   "outputs": [],
   "source": [
    "import pandas as pd\n",
    "import sys\n",
    "sys.path.append('../../../')\n",
    "import numpy as np\n",
    "\n",
    "\n",
    "# Import kchip.tools.interact\n",
    "import kchip.tools.interact as interact"
   ]
  },
  {
   "cell_type": "code",
   "execution_count": 4,
   "metadata": {},
   "outputs": [],
   "source": [
    "## Load the droplets data\n",
    "\n",
    "droplets = pd.read_csv('droplets.csv',index_col=0)\n",
    "\n",
    "# to make something interesting to plot, let's calculate the magnitude of the dye signal\n",
    "droplets = droplets.assign(Mag=np.sqrt((droplets[['R','G','B']].values**2).sum(axis=1)))"
   ]
  },
  {
   "cell_type": "code",
   "execution_count": 5,
   "metadata": {},
   "outputs": [
    {
     "data": {
      "text/html": [
       "<div>\n",
       "<style scoped>\n",
       "    .dataframe tbody tr th:only-of-type {\n",
       "        vertical-align: middle;\n",
       "    }\n",
       "\n",
       "    .dataframe tbody tr th {\n",
       "        vertical-align: top;\n",
       "    }\n",
       "\n",
       "    .dataframe thead th {\n",
       "        text-align: right;\n",
       "    }\n",
       "</style>\n",
       "<table border=\"1\" class=\"dataframe\">\n",
       "  <thead>\n",
       "    <tr style=\"text-align: right;\">\n",
       "      <th></th>\n",
       "      <th>IndexX</th>\n",
       "      <th>IndexY</th>\n",
       "      <th>ImageX</th>\n",
       "      <th>ImageY</th>\n",
       "      <th>R</th>\n",
       "      <th>G</th>\n",
       "      <th>B</th>\n",
       "      <th>RX</th>\n",
       "      <th>RY</th>\n",
       "      <th>Well_ID</th>\n",
       "      <th>Edge</th>\n",
       "      <th>Hash</th>\n",
       "      <th>Label</th>\n",
       "      <th>Cluster</th>\n",
       "      <th>Mag</th>\n",
       "    </tr>\n",
       "  </thead>\n",
       "  <tbody>\n",
       "    <tr>\n",
       "      <th>0</th>\n",
       "      <td>10</td>\n",
       "      <td>1</td>\n",
       "      <td>1012</td>\n",
       "      <td>980</td>\n",
       "      <td>2703.44</td>\n",
       "      <td>12827.96</td>\n",
       "      <td>1844.60</td>\n",
       "      <td>1012.0</td>\n",
       "      <td>980.0</td>\n",
       "      <td>251</td>\n",
       "      <td>True</td>\n",
       "      <td>-6299898719352953379</td>\n",
       "      <td>G7</td>\n",
       "      <td>5</td>\n",
       "      <td>13238.870600</td>\n",
       "    </tr>\n",
       "    <tr>\n",
       "      <th>1</th>\n",
       "      <td>10</td>\n",
       "      <td>1</td>\n",
       "      <td>1011</td>\n",
       "      <td>929</td>\n",
       "      <td>557.08</td>\n",
       "      <td>11917.24</td>\n",
       "      <td>4393.76</td>\n",
       "      <td>1011.0</td>\n",
       "      <td>929.0</td>\n",
       "      <td>209</td>\n",
       "      <td>True</td>\n",
       "      <td>-6299898719383244653</td>\n",
       "      <td>F5</td>\n",
       "      <td>16</td>\n",
       "      <td>12713.617671</td>\n",
       "    </tr>\n",
       "    <tr>\n",
       "      <th>2</th>\n",
       "      <td>10</td>\n",
       "      <td>1</td>\n",
       "      <td>952</td>\n",
       "      <td>877</td>\n",
       "      <td>4864.84</td>\n",
       "      <td>16312.56</td>\n",
       "      <td>1453.88</td>\n",
       "      <td>952.0</td>\n",
       "      <td>877.0</td>\n",
       "      <td>166</td>\n",
       "      <td>False</td>\n",
       "      <td>-6299898719431011662</td>\n",
       "      <td>G4</td>\n",
       "      <td>21</td>\n",
       "      <td>17084.497330</td>\n",
       "    </tr>\n",
       "    <tr>\n",
       "      <th>3</th>\n",
       "      <td>10</td>\n",
       "      <td>1</td>\n",
       "      <td>79</td>\n",
       "      <td>865</td>\n",
       "      <td>2609.44</td>\n",
       "      <td>8439.08</td>\n",
       "      <td>2355.20</td>\n",
       "      <td>79.0</td>\n",
       "      <td>865.0</td>\n",
       "      <td>173</td>\n",
       "      <td>False</td>\n",
       "      <td>-6299898719443827201</td>\n",
       "      <td>D11</td>\n",
       "      <td>6</td>\n",
       "      <td>9141.893425</td>\n",
       "    </tr>\n",
       "    <tr>\n",
       "      <th>4</th>\n",
       "      <td>10</td>\n",
       "      <td>1</td>\n",
       "      <td>590</td>\n",
       "      <td>746</td>\n",
       "      <td>12135.80</td>\n",
       "      <td>1486.48</td>\n",
       "      <td>20100.80</td>\n",
       "      <td>590.0</td>\n",
       "      <td>746.0</td>\n",
       "      <td>76</td>\n",
       "      <td>False</td>\n",
       "      <td>-6299898719256254312</td>\n",
       "      <td>Sucrose</td>\n",
       "      <td>3</td>\n",
       "      <td>23527.206062</td>\n",
       "    </tr>\n",
       "    <tr>\n",
       "      <th>5</th>\n",
       "      <td>10</td>\n",
       "      <td>1</td>\n",
       "      <td>865</td>\n",
       "      <td>745</td>\n",
       "      <td>3553.40</td>\n",
       "      <td>18068.04</td>\n",
       "      <td>2667.24</td>\n",
       "      <td>865.0</td>\n",
       "      <td>745.0</td>\n",
       "      <td>60</td>\n",
       "      <td>False</td>\n",
       "      <td>-6299898719274895096</td>\n",
       "      <td>G7</td>\n",
       "      <td>5</td>\n",
       "      <td>18606.313182</td>\n",
       "    </tr>\n",
       "    <tr>\n",
       "      <th>6</th>\n",
       "      <td>10</td>\n",
       "      <td>1</td>\n",
       "      <td>531</td>\n",
       "      <td>744</td>\n",
       "      <td>2131.36</td>\n",
       "      <td>12629.48</td>\n",
       "      <td>4328.20</td>\n",
       "      <td>531.0</td>\n",
       "      <td>744.0</td>\n",
       "      <td>75</td>\n",
       "      <td>False</td>\n",
       "      <td>-6299898719259749459</td>\n",
       "      <td>E10</td>\n",
       "      <td>9</td>\n",
       "      <td>13519.607086</td>\n",
       "    </tr>\n",
       "    <tr>\n",
       "      <th>7</th>\n",
       "      <td>10</td>\n",
       "      <td>1</td>\n",
       "      <td>924</td>\n",
       "      <td>693</td>\n",
       "      <td>21324.56</td>\n",
       "      <td>1261.12</td>\n",
       "      <td>9976.60</td>\n",
       "      <td>924.0</td>\n",
       "      <td>693.0</td>\n",
       "      <td>19</td>\n",
       "      <td>False</td>\n",
       "      <td>-6299898719306351419</td>\n",
       "      <td>NC</td>\n",
       "      <td>17</td>\n",
       "      <td>23576.679800</td>\n",
       "    </tr>\n",
       "    <tr>\n",
       "      <th>8</th>\n",
       "      <td>10</td>\n",
       "      <td>1</td>\n",
       "      <td>498</td>\n",
       "      <td>847</td>\n",
       "      <td>5670.96</td>\n",
       "      <td>20362.84</td>\n",
       "      <td>1850.20</td>\n",
       "      <td>498.0</td>\n",
       "      <td>847.0</td>\n",
       "      <td>138</td>\n",
       "      <td>False</td>\n",
       "      <td>-6299898719482273818</td>\n",
       "      <td>G4</td>\n",
       "      <td>21</td>\n",
       "      <td>21218.583370</td>\n",
       "    </tr>\n",
       "    <tr>\n",
       "      <th>9</th>\n",
       "      <td>10</td>\n",
       "      <td>1</td>\n",
       "      <td>500</td>\n",
       "      <td>666</td>\n",
       "      <td>664.92</td>\n",
       "      <td>16491.32</td>\n",
       "      <td>3164.72</td>\n",
       "      <td>500.0</td>\n",
       "      <td>666.0</td>\n",
       "      <td>12</td>\n",
       "      <td>False</td>\n",
       "      <td>-6299898719330817448</td>\n",
       "      <td>A10</td>\n",
       "      <td>8</td>\n",
       "      <td>16805.392189</td>\n",
       "    </tr>\n",
       "  </tbody>\n",
       "</table>\n",
       "</div>"
      ],
      "text/plain": [
       "   IndexX  IndexY  ImageX  ImageY         R         G         B      RX  \\\n",
       "0      10       1    1012     980   2703.44  12827.96   1844.60  1012.0   \n",
       "1      10       1    1011     929    557.08  11917.24   4393.76  1011.0   \n",
       "2      10       1     952     877   4864.84  16312.56   1453.88   952.0   \n",
       "3      10       1      79     865   2609.44   8439.08   2355.20    79.0   \n",
       "4      10       1     590     746  12135.80   1486.48  20100.80   590.0   \n",
       "5      10       1     865     745   3553.40  18068.04   2667.24   865.0   \n",
       "6      10       1     531     744   2131.36  12629.48   4328.20   531.0   \n",
       "7      10       1     924     693  21324.56   1261.12   9976.60   924.0   \n",
       "8      10       1     498     847   5670.96  20362.84   1850.20   498.0   \n",
       "9      10       1     500     666    664.92  16491.32   3164.72   500.0   \n",
       "\n",
       "      RY  Well_ID   Edge                 Hash    Label  Cluster           Mag  \n",
       "0  980.0      251   True -6299898719352953379       G7        5  13238.870600  \n",
       "1  929.0      209   True -6299898719383244653       F5       16  12713.617671  \n",
       "2  877.0      166  False -6299898719431011662       G4       21  17084.497330  \n",
       "3  865.0      173  False -6299898719443827201      D11        6   9141.893425  \n",
       "4  746.0       76  False -6299898719256254312  Sucrose        3  23527.206062  \n",
       "5  745.0       60  False -6299898719274895096       G7        5  18606.313182  \n",
       "6  744.0       75  False -6299898719259749459      E10        9  13519.607086  \n",
       "7  693.0       19  False -6299898719306351419       NC       17  23576.679800  \n",
       "8  847.0      138  False -6299898719482273818       G4       21  21218.583370  \n",
       "9  666.0       12  False -6299898719330817448      A10        8  16805.392189  "
      ]
     },
     "execution_count": 5,
     "metadata": {},
     "output_type": "execute_result"
    }
   ],
   "source": [
    "droplets.head(10)"
   ]
  },
  {
   "cell_type": "markdown",
   "metadata": {},
   "source": [
    "## Initialize the LinkedPlot"
   ]
  },
  {
   "cell_type": "code",
   "execution_count": 6,
   "metadata": {},
   "outputs": [],
   "source": [
    "# Don't overload the plotting library, only sample a few thousand points\n",
    "lp = interact.LinkedPlot(droplets.sample(5000))\n",
    "\n",
    "# Here you can set the input plot, it just needs to be strings referencing columns in the dataframe\n",
    "lp.Input('Mag') # one argument is a histogram\n",
    "lp.Output('ImageX','ImageY') #two is a scatterplot"
   ]
  },
  {
   "cell_type": "markdown",
   "metadata": {},
   "source": [
    "Try brushing part of the histogram to see how it changes the output scatterplot. "
   ]
  },
  {
   "cell_type": "code",
   "execution_count": 7,
   "metadata": {},
   "outputs": [
    {
     "data": {
      "application/vnd.jupyter.widget-view+json": {
       "model_id": "40ff011fc869482dbeedd08f09fb11a0",
       "version_major": 2,
       "version_minor": 0
      },
      "text/plain": [
       "RmlndXJlKGF4ZXM9W0F4aXMobGFiZWw9dSdNYWcnLCBzY2FsZT1MaW5lYXJTY2FsZSgpLCBzaWRlPXUnYm90dG9tJyksIEF4aXMoZ3JpZF9saW5lcz0nbm9uZScsIGxhYmVsPXUnQ291bnRzJyzigKY=\n"
      ]
     },
     "metadata": {},
     "output_type": "display_data"
    }
   ],
   "source": [
    "lp.figures['Input']"
   ]
  },
  {
   "cell_type": "code",
   "execution_count": 8,
   "metadata": {},
   "outputs": [
    {
     "data": {
      "application/vnd.jupyter.widget-view+json": {
       "model_id": "ae5a0fb7e1e14c3495c92f1e8adc2844",
       "version_major": 2,
       "version_minor": 0
      },
      "text/plain": [
       "RmlndXJlKGF4ZXM9W0F4aXMobGFiZWw9dSdJbWFnZVgnLCBzY2FsZT1MaW5lYXJTY2FsZSgpLCBzaWRlPXUnYm90dG9tJyksIEF4aXMobGFiZWw9dSdJbWFnZVknLCBvcmllbnRhdGlvbj0ndmXigKY=\n"
      ]
     },
     "metadata": {},
     "output_type": "display_data"
    }
   ],
   "source": [
    "lp.figures['Output']\n",
    "\n",
    "#Here is a trick to change the opacity of the scatterplot for better viewing.\n",
    "lp.figures['Output'].marks[0].default_opacities = [0.1]"
   ]
  },
  {
   "cell_type": "markdown",
   "metadata": {},
   "source": [
    "Here is another example. "
   ]
  },
  {
   "cell_type": "code",
   "execution_count": 10,
   "metadata": {},
   "outputs": [],
   "source": [
    "lp2 = interact.LinkedPlot(droplets.sample(5000))\n",
    "lp2.Input('ImageX','ImageY') #This time we will use two inputs to make a scatterplot\n",
    "lp2.Output('Mag') #One argument will make a histogram "
   ]
  },
  {
   "cell_type": "code",
   "execution_count": 11,
   "metadata": {},
   "outputs": [
    {
     "data": {
      "application/vnd.jupyter.widget-view+json": {
       "model_id": "2b90f002ac714c12857e1c02e960aaed",
       "version_major": 2,
       "version_minor": 0
      },
      "text/plain": [
       "RmlndXJlKGF4ZXM9W0F4aXMobGFiZWw9dSdJbWFnZVgnLCBzY2FsZT1MaW5lYXJTY2FsZSgpLCBzaWRlPXUnYm90dG9tJyksIEF4aXMobGFiZWw9dSdJbWFnZVknLCBvcmllbnRhdGlvbj0ndmXigKY=\n"
      ]
     },
     "metadata": {},
     "output_type": "display_data"
    }
   ],
   "source": [
    "lp2.figures['Input']"
   ]
  },
  {
   "cell_type": "code",
   "execution_count": 12,
   "metadata": {},
   "outputs": [
    {
     "data": {
      "application/vnd.jupyter.widget-view+json": {
       "model_id": "f3ce026ab3d74a5db398e25e4e9b041b",
       "version_major": 2,
       "version_minor": 0
      },
      "text/plain": [
       "RmlndXJlKGF4ZXM9W0F4aXMobGFiZWw9dSdNYWcnLCBzY2FsZT1MaW5lYXJTY2FsZSgpLCBzaWRlPXUnYm90dG9tJyksIEF4aXMoZ3JpZF9saW5lcz0nbm9uZScsIGxhYmVsPXUnQ291bnRzJyzigKY=\n"
      ]
     },
     "metadata": {},
     "output_type": "display_data"
    }
   ],
   "source": [
    "lp2.figures['Output']"
   ]
  },
  {
   "cell_type": "code",
   "execution_count": null,
   "metadata": {},
   "outputs": [],
   "source": []
  }
 ],
 "metadata": {
  "kernelspec": {
   "display_name": "Python 2",
   "language": "python",
   "name": "python2"
  },
  "language_info": {
   "codemirror_mode": {
    "name": "ipython",
    "version": 2
   },
   "file_extension": ".py",
   "mimetype": "text/x-python",
   "name": "python",
   "nbconvert_exporter": "python",
   "pygments_lexer": "ipython2",
   "version": "2.7.14"
  }
 },
 "nbformat": 4,
 "nbformat_minor": 2
}
