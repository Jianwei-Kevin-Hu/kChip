{
 "cells": [
  {
   "cell_type": "markdown",
   "metadata": {},
   "source": [
    "# Generate configuration files for each chip\n",
    "\n",
    "The experiment contains the following chips:\n",
    "\n",
    "* Chip1 (k1)\n",
    "* Chip2 (k1)\n",
    "\n",
    "From the template configuration file, we need to change the following for each chip: \n",
    "- image[base_path] -> append Chip# subdirectory\n",
    "- image[names] -> Chip#\n",
    "\n",
    "And add in the following from generator\n",
    "- image[well_start_image]\n",
    "- image[well_start_xy]\n",
    "- well_mask"
   ]
  },
  {
   "cell_type": "markdown",
   "metadata": {},
   "source": [
    "## Generate configuration files"
   ]
  },
  {
   "cell_type": "code",
   "execution_count": 1,
   "metadata": {},
   "outputs": [],
   "source": [
    "import yaml \n",
    "import copy\n",
    "from os import path, mkdir"
   ]
  },
  {
   "cell_type": "code",
   "execution_count": 2,
   "metadata": {
    "scrolled": true
   },
   "outputs": [
    {
     "name": "stdout",
     "output_type": "stream",
     "text": [
      "barcodes:\n",
      "  cluster:\n",
      "    eps: 0.01\n",
      "    min_samples: 10\n",
      "    offset: [600, 600, 600]\n",
      "    points_to_cluster: 2000\n",
      "  path: ../Notes.xlsx\n",
      "image:\n",
      "  base_path: /Volumes/Seagate Backup Plus Drive/20180418_focalalone/Image Data/\n",
      "  bugs: 0\n",
      "  dyes: [1, 2, 3]\n",
      "  names: {premerge: Chip1_t0, t0: Chip1_t0, t1: Chip1_t1, t2: Chip1_t2, t3: Chip1_t3,\n",
      "    t4: Chip1_t4, t5: Chip1_t5}\n",
      "  overlap: 0.05\n",
      "  pixel_size: 6.5\n",
      "  size: 1024\n",
      "  well_start_image: [1, 1]\n",
      "  well_start_xy: [540, 140]\n",
      "well_mask:\n",
      "  filename: kchip/well_mask.tif\n",
      "  pixel_size: 8.33625\n",
      "  well_start_xy: [850, 522]\n",
      "\n",
      "Chip1:\n",
      "  image:\n",
      "    well_start_image: [1, 1]\n",
      "    well_start_xy: [350, 350]\n",
      "  well_mask:\n",
      "    filename: ../Well Masks/k1_mask.tif\n",
      "    pixel_size: 8.33625\n",
      "    well_start_xy: [182, 202]\n",
      "Chip2:\n",
      "  image:\n",
      "    well_start_image: [1, 1]\n",
      "    well_start_xy: [525, 320]\n",
      "  well_mask:\n",
      "    filename: ../Well Masks/k1_mask.tif\n",
      "    pixel_size: 8.33625\n",
      "    well_start_xy: [182, 202]\n",
      "\n"
     ]
    }
   ],
   "source": [
    "with open('config.yml', 'r') as ymlfile:\n",
    "    template = yaml.load(ymlfile)\n",
    "\n",
    "with open('generator.yml', 'r') as ymlfile:\n",
    "    generator = yaml.load(ymlfile)\n",
    "    \n",
    "print yaml.dump(template)\n",
    "print yaml.dump(generator)"
   ]
  },
  {
   "cell_type": "code",
   "execution_count": 3,
   "metadata": {},
   "outputs": [],
   "source": [
    "# Create base analysis directory\n",
    "base = '/Users/akulesa/Desktop/20180418_focalalone/'\n",
    "\n",
    "if not path.exists(base):\n",
    "    mkdir(base)\n",
    "    \n",
    "# Create directories\n",
    "for chip in generator.keys():\n",
    "\n",
    "    if not path.exists(path.join(base,chip)):\n",
    "        mkdir(path.join(base,chip))\n",
    "\n",
    "    if not path.exists(path.join(base,chip)):\n",
    "        mkdir(path.join(base,chip))"
   ]
  },
  {
   "cell_type": "code",
   "execution_count": 4,
   "metadata": {},
   "outputs": [],
   "source": [
    "for chip in generator.keys():\n",
    "\n",
    "    config = copy.deepcopy(template)\n",
    "\n",
    "    try: \n",
    "        config['image']['base_path'] = path.join(config['image']['base_path'],chip)\n",
    "\n",
    "        for name in config['image']['names'].keys():\n",
    "            config['image']['names'][name] = config['image']['names'][name].replace('Chip1',chip)\n",
    "\n",
    "        config['image']['well_start_image'] = generator[chip]['image']['well_start_image']\n",
    "        config['image']['well_start_xy'] = generator[chip]['image']['well_start_xy']\n",
    "        config['well_mask'] = generator[chip]['well_mask']\n",
    "\n",
    "        with open(path.join(base,chip,'config.yml'), 'w') as outfile:\n",
    "            yaml.dump(config, outfile,default_flow_style=False)\n",
    "    except:\n",
    "        print 'Error on:', chip"
   ]
  },
  {
   "cell_type": "markdown",
   "metadata": {
    "collapsed": true
   },
   "source": [
    "## Setup jupyter notebooks for each chip\n",
    "\n",
    "Use Analysis_template.ipynb as template"
   ]
  },
  {
   "cell_type": "code",
   "execution_count": null,
   "metadata": {},
   "outputs": [],
   "source": [
    "import nbformat\n",
    "from nbconvert.preprocessors import ExecutePreprocessor\n",
    "\n",
    "def create_notebook(template):\n",
    "    ''' Create output notebook from template '''\n",
    "\n",
    "    with open(template) as f:\n",
    "        nb = nbformat.read(f, as_version=4)\n",
    "\n",
    "    return nb\n",
    "\n",
    "def execute_notebook(nb):\n",
    "    ''' Execute notebook (returns in place) kernel=python2.7'''\n",
    "    ep = ExecutePreprocessor(timeout=600, kernel_name='python2.7')\n",
    "    ep.preprocess(nb,{'metadata': {'path': './'}})\n",
    "\n",
    "def write_notebook(nb,output_path):\n",
    "    ''' Write notebok file '''\n",
    "    with open(output_path, 'wt') as f:\n",
    "        nbformat.write(nb, f)\n"
   ]
  },
  {
   "cell_type": "code",
   "execution_count": null,
   "metadata": {},
   "outputs": [],
   "source": [
    "template = '/Users/akulesa/Desktop/180318/Analysis/Analysis_Template.ipynb'\n",
    "from os import chdir\n",
    "\n",
    "for chip in generator.keys():\n",
    "    print chip\n",
    "\n",
    "    print 'Creating...'\n",
    "    # Create from template\n",
    "    nb = create_notebook(template)\n",
    "\n",
    "    print 'Moving to... '\n",
    "    chdir(path.join(base,chip))\n",
    "\n",
    "    print 'Executing...'\n",
    "\n",
    "    try: \n",
    "        # Execute\n",
    "        execute_notebook(nb)\n",
    "\n",
    "    except Exception as e:\n",
    "        print 'Error executing.'\n",
    "        print e\n",
    "\n",
    "    print 'Writing...'\n",
    "    # Write\n",
    "    outfile = 'Analysis.ipynb'\n",
    "    write_notebook(nb,outfile)"
   ]
  },
  {
   "cell_type": "code",
   "execution_count": null,
   "metadata": {},
   "outputs": [],
   "source": []
  }
 ],
 "metadata": {
  "kernelspec": {
   "display_name": "Python 2",
   "language": "python",
   "name": "python2"
  },
  "language_info": {
   "codemirror_mode": {
    "name": "ipython",
    "version": 2
   },
   "file_extension": ".py",
   "mimetype": "text/x-python",
   "name": "python",
   "nbconvert_exporter": "python",
   "pygments_lexer": "ipython2",
   "version": "2.7.13"
  }
 },
 "nbformat": 4,
 "nbformat_minor": 2
}
