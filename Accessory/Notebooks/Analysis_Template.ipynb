{
 "cells": [
  {
   "cell_type": "markdown",
   "metadata": {},
   "source": [
    "# The Full Pipeline\n",
    "\n",
    "**Inputs**: \n",
    "- config file\n",
    "- image files\n",
    "- well mask file\n",
    "\n",
    "**Outputs**:\n",
    "- droplets DataFrame (csv) \n",
    "- wells DataFrame (csv)\n",
    "- condensed DataFrame (csv)\n",
    "- jupyter notebook pre-loaded with basic quality control plots\n",
    "\n",
    "We have built all the necessary parts in other python notebooks and moved code to kchip_v0 package. Now, implement each step. \n",
    "\n",
    "#### Step 1: Create droplets DataFrame\n",
    "The droplets dataFrame contains information of all droplets in the pre-merge image set. We need to compute and store:\n",
    "- the RGB information of each droplet\n",
    "- the cluster and cluster label of each droplet\n",
    "- the location of each droplet\n",
    "- the well ID of each droplet\n",
    "\n",
    "All of these steps can be found in the \"Putting it together\" notebook. \n",
    "\n",
    "#### Step 2: Create wells DataFrame\n",
    "- Loop through post-merge images and identify wells\n",
    "- Map post-merge wells to pre-merge wells\n",
    "- Condense outputs to final dataframe\n",
    "\n",
    "All of these steps can be found in the \"Registration\" notebook and Final Outputs. \n"
   ]
  },
  {
   "cell_type": "markdown",
   "metadata": {},
   "source": [
    "### Step 0: Imports and config"
   ]
  },
  {
   "cell_type": "code",
   "execution_count": 3,
   "metadata": {},
   "outputs": [
    {
     "name": "stdout",
     "output_type": "stream",
     "text": [
      "barcodes:\n",
      "  cluster:\n",
      "    eps: 0.01\n",
      "    min_samples: 10\n",
      "    offset:\n",
      "    - 600\n",
      "    - 600\n",
      "    - 600\n",
      "    points_to_cluster: 2000\n",
      "  path: ../Chip24_data/Notes.xlsx\n",
      "image:\n",
      "  base_path: ../Chip24_data/\n",
      "  bugs: 0\n",
      "  dyes:\n",
      "  - 1\n",
      "  - 3\n",
      "  - 2\n",
      "  names:\n",
      "    premerge: Chip24_premerge\n",
      "    t0: Chip24_t0\n",
      "    t1: Chip24_t1\n",
      "    t2: Chip24_t2\n",
      "  overlap: 0.05\n",
      "  pixel_size: 6.5\n",
      "  size: 1024\n",
      "  well_start_image:\n",
      "  - 1\n",
      "  - 1\n",
      "  well_start_xy:\n",
      "  - 518\n",
      "  - 434\n",
      "well_mask:\n",
      "  filename: ../Well Masks/k2_mask.tif\n",
      "  pixel_size: 8.33625\n",
      "  well_start_xy:\n",
      "  - 242\n",
      "  - 378\n",
      "\n"
     ]
    },
    {
     "name": "stderr",
     "output_type": "stream",
     "text": [
      "/Users/mandy/Library/Python/2.7/lib/python/site-packages/ipykernel_launcher.py:20: YAMLLoadWarning: calling yaml.load() without Loader=... is deprecated, as the default Loader is unsafe. Please read https://msg.pyyaml.org/load for full details.\n"
     ]
    }
   ],
   "source": [
    "# basic imports \n",
    "import yaml\n",
    "import matplotlib.pyplot as plt\n",
    "import numpy as np\n",
    "import pandas as pd\n",
    "\n",
    "# Append top level directory with kchip package\n",
    "import sys\n",
    "sys.path.append('../../../')\n",
    "\n",
    "# kchip imports\n",
    "import kchip.io as kchip_io\n",
    "import kchip.analyze as kchip_analyze\n",
    "\n",
    "# Other\n",
    "%matplotlib inline\n",
    "\n",
    "# Read in config file\n",
    "with open('../config/config24.yml', 'r') as ymlfile:\n",
    "    config = yaml.load(ymlfile)\n",
    "    \n",
    "print yaml.dump(config)"
   ]
  },
  {
   "cell_type": "code",
   "execution_count": 4,
   "metadata": {},
   "outputs": [],
   "source": [
    "fontsize = 14\n",
    "plt.rcParams['axes.spines.right']=False\n",
    "plt.rcParams['axes.spines.top']=False\n",
    "\n",
    "plt.rcParams['axes.linewidth']=3\n",
    "plt.rcParams['axes.labelsize']=fontsize\n",
    "plt.rcParams['lines.linewidth']=2\n",
    "plt.rcParams['xtick.labelsize']=fontsize\n",
    "plt.rcParams['ytick.labelsize']=fontsize\n",
    "plt.rcParams['axes.titlesize'] = fontsize\n",
    "plt.rcParams['font.family'] = 'sans-serif'\n",
    "plt.rcParams['font.sans-serif'] = ['Helvetica']\n",
    "plt.rcParams['font.size']=fontsize\n",
    "plt.rcParams['xtick.major.width']=1.5\n",
    "plt.rcParams['ytick.major.width']=1.5\n",
    "plt.rcParams['contour.negative_linestyle'] = 'solid'\n",
    "\n",
    "plt.rcParams['savefig.bbox']='Tight'\n",
    "plt.rcParams['pdf.fonttype'] = 42"
   ]
  },
  {
   "cell_type": "markdown",
   "metadata": {},
   "source": [
    "### Step 1: Create droplets DataFrame\n",
    "- Initialize from images\n",
    "- Identify droplets in the same well from fit to masks\n",
    "- Cluster\n",
    "- Map apriori labels to clusters"
   ]
  },
  {
   "cell_type": "code",
   "execution_count": 5,
   "metadata": {
    "scrolled": false
   },
   "outputs": [
    {
     "name": "stdout",
     "output_type": "stream",
     "text": [
      "Creating droplets from: 8,1\n"
     ]
    },
    {
     "name": "stderr",
     "output_type": "stream",
     "text": [
      "../../../kchip/matchmask.py:26: FutureWarning: Using a non-tuple sequence for multidimensional indexing is deprecated; use `arr[tuple(seq)]` instead of `arr[seq]`. In the future this will be interpreted as an array index, `arr[np.array(seq)]`, which will result either in an error or a different result.\n",
      "  return image[slices]\n"
     ]
    },
    {
     "name": "stdout",
     "output_type": "stream",
     "text": [
      "Creating droplets from: 8,3\n",
      "Creating droplets from: 8,2\n",
      "Creating droplets from: 8,6\n",
      "Creating droplets from: 8,7\n",
      "Creating droplets from: 8,5\n",
      "Creating droplets from: 8,4\n",
      "Creating droplets from: 9,3\n",
      "Creating droplets from: 9,2\n",
      "Creating droplets from: 9,1\n",
      "Creating droplets from: 9,5\n",
      "Creating droplets from: 9,4\n",
      "Creating droplets from: 9,6\n",
      "Creating droplets from: 9,7\n",
      "Creating droplets from: 3,1\n",
      "Creating droplets from: 1,3\n",
      "Creating droplets from: 7,5\n",
      "Creating droplets from: 5,7\n",
      "Creating droplets from: 5,6\n",
      "Creating droplets from: 7,4\n",
      "Creating droplets from: 10,1\n",
      "Creating droplets from: 1,2\n",
      "Creating droplets from: 3,2\n",
      "Creating droplets from: 10,3\n",
      "Creating droplets from: 7,6\n",
      "Creating droplets from: 5,4\n",
      "Creating droplets from: 5,5\n",
      "Creating droplets from: 7,7\n",
      "Creating droplets from: 10,2\n",
      "Creating droplets from: 1,1\n",
      "Creating droplets from: 3,3\n",
      "Creating droplets from: 3,7\n",
      "Creating droplets from: 1,5\n",
      "Creating droplets from: 10,6\n",
      "Creating droplets from: 7,3\n",
      "Creating droplets from: 5,1\n",
      "Creating droplets from: 7,2\n",
      "Creating droplets from: 10,7\n",
      "Creating droplets from: 1,4\n",
      "Creating droplets from: 3,6\n",
      "Creating droplets from: 3,4\n",
      "Creating droplets from: 1,6\n",
      "Creating droplets from: 10,5\n",
      "Creating droplets from: 5,2\n",
      "Creating droplets from: 5,3\n",
      "Creating droplets from: 7,1\n",
      "Creating droplets from: 10,4\n",
      "Creating droplets from: 1,7\n",
      "Creating droplets from: 3,5\n",
      "Creating droplets from: 4,4\n",
      "Creating droplets from: 6,6\n",
      "Creating droplets from: 2,2\n",
      "Creating droplets from: 2,3\n",
      "Creating droplets from: 6,7\n",
      "Creating droplets from: 4,5\n",
      "Creating droplets from: 4,7\n",
      "Creating droplets from: 6,5\n",
      "Creating droplets from: 2,1\n",
      "Creating droplets from: 6,4\n",
      "Creating droplets from: 4,6\n",
      "Creating droplets from: 4,2\n",
      "Creating droplets from: 2,4\n",
      "Creating droplets from: 2,5\n",
      "Creating droplets from: 6,1\n",
      "Creating droplets from: 4,3\n",
      "Creating droplets from: 4,1\n",
      "Creating droplets from: 6,3\n",
      "Creating droplets from: 2,7\n",
      "Creating droplets from: 2,6\n",
      "Creating droplets from: 6,2\n",
      "Rotation (degrees):  0.0\n"
     ]
    },
    {
     "name": "stderr",
     "output_type": "stream",
     "text": [
      "/Users/mandy/Library/Python/2.7/lib/python/site-packages/skimage/transform/_warps.py:24: UserWarning: The default multichannel argument (None) is deprecated.  Please specify either True or False explicitly.  multichannel will default to False starting with release 0.16.\n",
      "  warn('The default multichannel argument (None) is deprecated.  Please '\n",
      "/Users/mandy/Library/Python/2.7/lib/python/site-packages/skimage/transform/_warps.py:105: UserWarning: The default mode, 'constant', will be changed to 'reflect' in skimage 0.15.\n",
      "  warn(\"The default mode, 'constant', will be changed to 'reflect' in \"\n",
      "/Users/mandy/Library/Python/2.7/lib/python/site-packages/skimage/transform/_warps.py:110: UserWarning: Anti-aliasing will be enabled by default in skimage 0.15 to avoid aliasing artifacts when down-sampling images.\n",
      "  warn(\"Anti-aliasing will be enabled by default in skimage 0.15 to \"\n"
     ]
    },
    {
     "name": "stdout",
     "output_type": "stream",
     "text": [
      "Fitting droplets to well mask in: 8 1\n"
     ]
    },
    {
     "name": "stderr",
     "output_type": "stream",
     "text": [
      "../../../kchip/analyze.py:171: FutureWarning: Using a non-tuple sequence for multidimensional indexing is deprecated; use `arr[tuple(seq)]` instead of `arr[seq]`. In the future this will be interpreted as an array index, `arr[np.array(seq)]`, which will result either in an error or a different result.\n",
      "  mask = well_mask[mask_xy(x,y,100)]\n"
     ]
    },
    {
     "name": "stdout",
     "output_type": "stream",
     "text": [
      "Shift:  [276. -37.]\n",
      "Fitting droplets to well mask in: 8 3\n",
      "Shift:  [ 67. -74.]\n",
      "Fitting droplets to well mask in: 8 2\n",
      "Shift:  [-102.  -56.]\n",
      "Fitting droplets to well mask in: 8 6\n",
      "Shift:  [-61. -44.]\n",
      "Fitting droplets to well mask in: 8 7\n",
      "Shift:  [ 23. 116.]\n",
      "Fitting droplets to well mask in: 8 5\n",
      "Shift:  [ 85. -43.]\n",
      "Fitting droplets to well mask in: 8 4\n",
      "Shift:  [-87. 107.]\n",
      "Fitting droplets to well mask in: 9 3\n",
      "Shift:  [54. 29.]\n",
      "Fitting droplets to well mask in: 9 2\n",
      "Shift:  [-13.  43.]\n",
      "Fitting droplets to well mask in: 9 1\n",
      "Shift:  [162. -63.]\n",
      "Fitting droplets to well mask in: 9 5\n",
      "Shift:  [45. 89.]\n",
      "Fitting droplets to well mask in: 9 4\n",
      "Shift:  [68. 27.]\n",
      "Fitting droplets to well mask in: 9 6\n",
      "Shift:  [-47.  89.]\n",
      "Fitting droplets to well mask in: 9 7\n",
      "Shift:  [142.   1.]\n",
      "Fitting droplets to well mask in: 3 1\n",
      "Shift:  [-22.  -9.]\n",
      "Fitting droplets to well mask in: 1 3\n",
      "Shift:  [  14. -151.]\n",
      "Fitting droplets to well mask in: 7 5\n",
      "Shift:  [72. 65.]\n",
      "Fitting droplets to well mask in: 5 7\n",
      "Shift:  [ 59. 100.]\n",
      "Fitting droplets to well mask in: 5 6\n",
      "Shift:  [-56. 101.]\n",
      "Fitting droplets to well mask in: 7 4\n",
      "Shift:  [ 92. -57.]\n",
      "Fitting droplets to well mask in: 10 1\n",
      "Shift:  [309.  26.]\n",
      "Fitting droplets to well mask in: 1 2\n",
      "Shift:  [-54. -29.]\n",
      "Fitting droplets to well mask in: 3 2\n",
      "Shift:  [ -14. -104.]\n",
      "Fitting droplets to well mask in: 10 3\n",
      "Shift:  [14. 77.]\n",
      "Fitting droplets to well mask in: 7 6\n",
      "Shift:  [106.  94.]\n",
      "Fitting droplets to well mask in: 5 4\n",
      "Shift:  [ 67. 101.]\n",
      "Fitting droplets to well mask in: 5 5\n",
      "Shift:  [ 71. 100.]\n",
      "Fitting droplets to well mask in: 7 7\n",
      "Shift:  [98. 80.]\n",
      "Fitting droplets to well mask in: 10 2\n",
      "Shift:  [-43.  89.]\n",
      "Fitting droplets to well mask in: 1 1\n",
      "Shift:  [201. -12.]\n",
      "Fitting droplets to well mask in: 3 3\n",
      "Shift:  [ 29. 105.]\n",
      "Fitting droplets to well mask in: 3 7\n",
      "Shift:  [  50. -104.]\n",
      "Fitting droplets to well mask in: 1 5\n",
      "Shift:  [ -6. -15.]\n",
      "Fitting droplets to well mask in: 10 6\n",
      "Shift:  [-84.  93.]\n",
      "Fitting droplets to well mask in: 7 3\n",
      "Shift:  [ 23. -56.]\n",
      "Fitting droplets to well mask in: 5 1\n",
      "Shift:  [ 80. 100.]\n",
      "Fitting droplets to well mask in: 7 2\n",
      "Shift:  [-38.  93.]\n",
      "Fitting droplets to well mask in: 10 7\n",
      "Shift:  [ 12. 109.]\n",
      "Fitting droplets to well mask in: 1 4\n",
      "Shift:  [ 68. -44.]\n",
      "Fitting droplets to well mask in: 3 6\n",
      "Shift:  [ -20. -104.]\n",
      "Fitting droplets to well mask in: 3 4\n",
      "Shift:  [-41. -13.]\n",
      "Fitting droplets to well mask in: 1 6\n",
      "Shift:  [ -9. -57.]\n",
      "Fitting droplets to well mask in: 10 5\n",
      "Shift:  [ 8. 93.]\n",
      "Fitting droplets to well mask in: 5 2\n",
      "Shift:  [-93. 101.]\n",
      "Fitting droplets to well mask in: 5 3\n",
      "Shift:  [ 16. -49.]\n",
      "Fitting droplets to well mask in: 7 1\n",
      "Shift:  [140.  96.]\n",
      "Fitting droplets to well mask in: 10 4\n",
      "Shift:  [102. 104.]\n",
      "Fitting droplets to well mask in: 1 7\n",
      "Shift:  [-13. -27.]\n",
      "Fitting droplets to well mask in: 3 5\n",
      "Shift:  [  49. -105.]\n",
      "Fitting droplets to well mask in: 4 4\n",
      "Shift:  [-83. -62.]\n",
      "Fitting droplets to well mask in: 6 6\n",
      "Shift:  [-58. -37.]\n",
      "Fitting droplets to well mask in: 2 2\n",
      "Shift:  [-94.  94.]\n",
      "Fitting droplets to well mask in: 2 3\n",
      "Shift:  [40.  4.]\n",
      "Fitting droplets to well mask in: 6 7\n",
      "Shift:  [63. 53.]\n",
      "Fitting droplets to well mask in: 4 5\n",
      "Shift:  [59. 28.]\n",
      "Fitting droplets to well mask in: 4 7\n",
      "Shift:  [50. 28.]\n",
      "Fitting droplets to well mask in: 6 5\n",
      "Shift:  [83. 36.]\n",
      "Fitting droplets to well mask in: 2 1\n",
      "Shift:  [-24. -11.]\n",
      "Fitting droplets to well mask in: 6 4\n",
      "Shift:  [-89.  53.]\n",
      "Fitting droplets to well mask in: 4 6\n",
      "Shift:  [-58.  29.]\n",
      "Fitting droplets to well mask in: 4 2\n",
      "Shift:  [-95.  88.]\n",
      "Fitting droplets to well mask in: 2 4\n",
      "Shift:  [-52.  34.]\n",
      "Fitting droplets to well mask in: 2 5\n",
      "Shift:  [68. 33.]\n",
      "Fitting droplets to well mask in: 6 1\n",
      "Shift:  [91. 57.]\n",
      "Fitting droplets to well mask in: 4 3\n",
      "Shift:  [14. 73.]\n",
      "Fitting droplets to well mask in: 4 1\n",
      "Shift:  [-20.  61.]\n",
      "Fitting droplets to well mask in: 6 3\n",
      "Shift:  [38. 23.]\n",
      "Fitting droplets to well mask in: 2 7\n",
      "Shift:  [116.  33.]\n",
      "Fitting droplets to well mask in: 2 6\n",
      "Shift:  [-30.  16.]\n",
      "Fitting droplets to well mask in: 6 2\n",
      "Shift:  [-29.  53.]\n"
     ]
    },
    {
     "name": "stderr",
     "output_type": "stream",
     "text": [
      "/Library/Python/2.7/site-packages/pandas/util/_decorators.py:188: FutureWarning: The `sheetname` keyword is deprecated, use `sheet_name` instead\n",
      "  return func(*args, **kwargs)\n"
     ]
    },
    {
     "ename": "ValueError",
     "evalue": "malformed string",
     "output_type": "error",
     "traceback": [
      "\u001b[0;31m---------------------------------------------------------------------------\u001b[0m",
      "\u001b[0;31mValueError\u001b[0m                                Traceback (most recent call last)",
      "\u001b[0;32m<ipython-input-5-d977f6516d86>\u001b[0m in \u001b[0;36m<module>\u001b[0;34m()\u001b[0m\n\u001b[1;32m      8\u001b[0m \u001b[0;34m\u001b[0m\u001b[0m\n\u001b[1;32m      9\u001b[0m \u001b[0;31m# Cluster droplets and map apriori labels to clusters\u001b[0m\u001b[0;34m\u001b[0m\u001b[0;34m\u001b[0m\u001b[0m\n\u001b[0;32m---> 10\u001b[0;31m \u001b[0mdroplets\u001b[0m\u001b[0;34m,\u001b[0m \u001b[0mcentroids\u001b[0m \u001b[0;34m=\u001b[0m \u001b[0mkchip_analyze\u001b[0m\u001b[0;34m.\u001b[0m\u001b[0midentify_clusters\u001b[0m\u001b[0;34m(\u001b[0m\u001b[0mconfig\u001b[0m\u001b[0;34m,\u001b[0m\u001b[0mdroplets\u001b[0m\u001b[0;34m,\u001b[0m\u001b[0mshow\u001b[0m\u001b[0;34m=\u001b[0m\u001b[0;36m1\u001b[0m\u001b[0;34m)\u001b[0m\u001b[0;34m\u001b[0m\u001b[0m\n\u001b[0m\u001b[1;32m     11\u001b[0m \u001b[0;34m\u001b[0m\u001b[0m\n\u001b[1;32m     12\u001b[0m \u001b[0;32mprint\u001b[0m \u001b[0;34m'Total droplets identified: '\u001b[0m\u001b[0;34m,\u001b[0m \u001b[0mdroplets\u001b[0m\u001b[0;34m.\u001b[0m\u001b[0mshape\u001b[0m\u001b[0;34m[\u001b[0m\u001b[0;36m0\u001b[0m\u001b[0;34m]\u001b[0m\u001b[0;34m\u001b[0m\u001b[0m\n",
      "\u001b[0;32m/Users/mandy/Develop/PyCharm/BPCP/kchip/analyze.pyc\u001b[0m in \u001b[0;36midentify_clusters\u001b[0;34m(config, droplets, show, ax)\u001b[0m\n\u001b[1;32m    268\u001b[0m     \u001b[0;31m# Read in apriori barcodes\u001b[0m\u001b[0;34m\u001b[0m\u001b[0;34m\u001b[0m\u001b[0m\n\u001b[1;32m    269\u001b[0m     \u001b[0mapriori\u001b[0m \u001b[0;34m=\u001b[0m \u001b[0;34m{\u001b[0m\u001b[0;34m}\u001b[0m\u001b[0;34m\u001b[0m\u001b[0m\n\u001b[0;32m--> 270\u001b[0;31m     \u001b[0mapriori\u001b[0m\u001b[0;34m[\u001b[0m\u001b[0;34m'map'\u001b[0m\u001b[0;34m]\u001b[0m \u001b[0;34m=\u001b[0m \u001b[0mkchip_io\u001b[0m\u001b[0;34m.\u001b[0m\u001b[0mread_excel_barcodes\u001b[0m\u001b[0;34m(\u001b[0m\u001b[0mconfig\u001b[0m\u001b[0;34m)\u001b[0m\u001b[0;34m\u001b[0m\u001b[0m\n\u001b[0m\u001b[1;32m    271\u001b[0m     \u001b[0mapriori\u001b[0m\u001b[0;34m[\u001b[0m\u001b[0;34m'barcodes'\u001b[0m\u001b[0;34m]\u001b[0m \u001b[0;34m=\u001b[0m \u001b[0mnp\u001b[0m\u001b[0;34m.\u001b[0m\u001b[0mvstack\u001b[0m\u001b[0;34m(\u001b[0m\u001b[0;34m[\u001b[0m\u001b[0mnp\u001b[0m\u001b[0;34m.\u001b[0m\u001b[0masarray\u001b[0m\u001b[0;34m(\u001b[0m\u001b[0mapriori\u001b[0m\u001b[0;34m[\u001b[0m\u001b[0;34m'map'\u001b[0m\u001b[0;34m]\u001b[0m\u001b[0;34m[\u001b[0m\u001b[0ma\u001b[0m\u001b[0;34m]\u001b[0m\u001b[0;34m)\u001b[0m \u001b[0;32mfor\u001b[0m \u001b[0ma\u001b[0m \u001b[0;32min\u001b[0m \u001b[0mapriori\u001b[0m\u001b[0;34m[\u001b[0m\u001b[0;34m'map'\u001b[0m\u001b[0;34m]\u001b[0m\u001b[0;34m.\u001b[0m\u001b[0mkeys\u001b[0m\u001b[0;34m(\u001b[0m\u001b[0;34m)\u001b[0m\u001b[0;34m]\u001b[0m\u001b[0;34m)\u001b[0m\u001b[0;34m\u001b[0m\u001b[0m\n\u001b[1;32m    272\u001b[0m \u001b[0;34m\u001b[0m\u001b[0m\n",
      "\u001b[0;32m/Users/mandy/Develop/PyCharm/BPCP/kchip/io.pyc\u001b[0m in \u001b[0;36mread_excel_barcodes\u001b[0;34m(config)\u001b[0m\n\u001b[1;32m     92\u001b[0m     \u001b[0;32mfor\u001b[0m \u001b[0mitem\u001b[0m \u001b[0;32min\u001b[0m \u001b[0md\u001b[0m\u001b[0;34m.\u001b[0m\u001b[0mkeys\u001b[0m\u001b[0;34m(\u001b[0m\u001b[0;34m)\u001b[0m\u001b[0;34m:\u001b[0m\u001b[0;34m\u001b[0m\u001b[0m\n\u001b[1;32m     93\u001b[0m         \u001b[0;32mif\u001b[0m \u001b[0mitem\u001b[0m \u001b[0;34m==\u001b[0m \u001b[0mitem\u001b[0m\u001b[0;34m:\u001b[0m\u001b[0;34m\u001b[0m\u001b[0m\n\u001b[0;32m---> 94\u001b[0;31m             \u001b[0md\u001b[0m\u001b[0;34m[\u001b[0m\u001b[0mitem\u001b[0m\u001b[0;34m]\u001b[0m \u001b[0;34m=\u001b[0m \u001b[0mliteral_eval\u001b[0m\u001b[0;34m(\u001b[0m\u001b[0md\u001b[0m\u001b[0;34m[\u001b[0m\u001b[0mitem\u001b[0m\u001b[0;34m]\u001b[0m\u001b[0;34m)\u001b[0m\u001b[0;34m\u001b[0m\u001b[0m\n\u001b[0m\u001b[1;32m     95\u001b[0m         \u001b[0;32melse\u001b[0m\u001b[0;34m:\u001b[0m\u001b[0;34m\u001b[0m\u001b[0m\n\u001b[1;32m     96\u001b[0m             \u001b[0;32mdel\u001b[0m \u001b[0md\u001b[0m\u001b[0;34m[\u001b[0m\u001b[0mitem\u001b[0m\u001b[0;34m]\u001b[0m\u001b[0;34m\u001b[0m\u001b[0m\n",
      "\u001b[0;32m/System/Library/Frameworks/Python.framework/Versions/2.7/lib/python2.7/ast.pyc\u001b[0m in \u001b[0;36mliteral_eval\u001b[0;34m(node_or_string)\u001b[0m\n\u001b[1;32m     78\u001b[0m                 \u001b[0;32mreturn\u001b[0m \u001b[0mleft\u001b[0m \u001b[0;34m-\u001b[0m \u001b[0mright\u001b[0m\u001b[0;34m\u001b[0m\u001b[0m\n\u001b[1;32m     79\u001b[0m         \u001b[0;32mraise\u001b[0m \u001b[0mValueError\u001b[0m\u001b[0;34m(\u001b[0m\u001b[0;34m'malformed string'\u001b[0m\u001b[0;34m)\u001b[0m\u001b[0;34m\u001b[0m\u001b[0m\n\u001b[0;32m---> 80\u001b[0;31m     \u001b[0;32mreturn\u001b[0m \u001b[0m_convert\u001b[0m\u001b[0;34m(\u001b[0m\u001b[0mnode_or_string\u001b[0m\u001b[0;34m)\u001b[0m\u001b[0;34m\u001b[0m\u001b[0m\n\u001b[0m\u001b[1;32m     81\u001b[0m \u001b[0;34m\u001b[0m\u001b[0m\n\u001b[1;32m     82\u001b[0m \u001b[0;34m\u001b[0m\u001b[0m\n",
      "\u001b[0;32m/System/Library/Frameworks/Python.framework/Versions/2.7/lib/python2.7/ast.pyc\u001b[0m in \u001b[0;36m_convert\u001b[0;34m(node)\u001b[0m\n\u001b[1;32m     77\u001b[0m             \u001b[0;32melse\u001b[0m\u001b[0;34m:\u001b[0m\u001b[0;34m\u001b[0m\u001b[0m\n\u001b[1;32m     78\u001b[0m                 \u001b[0;32mreturn\u001b[0m \u001b[0mleft\u001b[0m \u001b[0;34m-\u001b[0m \u001b[0mright\u001b[0m\u001b[0;34m\u001b[0m\u001b[0m\n\u001b[0;32m---> 79\u001b[0;31m         \u001b[0;32mraise\u001b[0m \u001b[0mValueError\u001b[0m\u001b[0;34m(\u001b[0m\u001b[0;34m'malformed string'\u001b[0m\u001b[0;34m)\u001b[0m\u001b[0;34m\u001b[0m\u001b[0m\n\u001b[0m\u001b[1;32m     80\u001b[0m     \u001b[0;32mreturn\u001b[0m \u001b[0m_convert\u001b[0m\u001b[0;34m(\u001b[0m\u001b[0mnode_or_string\u001b[0m\u001b[0;34m)\u001b[0m\u001b[0;34m\u001b[0m\u001b[0m\n\u001b[1;32m     81\u001b[0m \u001b[0;34m\u001b[0m\u001b[0m\n",
      "\u001b[0;31mValueError\u001b[0m: malformed string"
     ]
    },
    {
     "name": "stderr",
     "output_type": "stream",
     "text": [
      "/Users/mandy/Library/Python/2.7/lib/python/site-packages/matplotlib/font_manager.py:1331: UserWarning: findfont: Font family [u'sans-serif'] not found. Falling back to DejaVu Sans\n",
      "  (prop.get_family(), self.defaultFamily[fontext]))\n"
     ]
    },
    {
     "data": {
      "image/png": "[encoded data removed]",
      "text/plain": [
       "<Figure size 432x288 with 1 Axes>"
      ]
     },
     "metadata": {
      "needs_background": "light"
     },
     "output_type": "display_data"
    }
   ],
   "source": [
    "# Initialize droplets DataFrame from images\n",
    "droplets, rotation_theta = kchip_analyze.initialize_droplets(config)\n",
    "\n",
    "print 'Rotation (degrees): ', rotation_theta*180/np.pi\n",
    "\n",
    "# Identify droplets in the same well from fit to masks\n",
    "droplets = kchip_analyze.fit_droplets_to_mask(config,droplets,rotation_theta)\n",
    "\n",
    "# Cluster droplets and map apriori labels to clusters\n",
    "droplets, centroids = kchip_analyze.identify_clusters(config,droplets,show=1)\n",
    "\n",
    "print 'Total droplets identified: ', droplets.shape[0]"
   ]
  },
  {
   "cell_type": "markdown",
   "metadata": {},
   "source": [
    "### Step 2: Create wells DataFrame\n",
    "- Create pre-merge wells dataFrame\n",
    "- Loop through post-merge images and identify wells\n",
    "- Map post-merge wells to pre-merge wells"
   ]
  },
  {
   "cell_type": "code",
   "execution_count": null,
   "metadata": {
    "scrolled": true
   },
   "outputs": [],
   "source": [
    "# Identify premerge wells\n",
    "pre_wells = droplets.groupby(['IndexX','IndexY','Well_ID'],as_index=False)[['ImageX','ImageY','Edge']].mean()\n",
    "\n",
    "# List of timepoints\n",
    "timepoints = ['t'+str(i) for i in range(3)]\n",
    "\n",
    "# Analyze data for each timepoint\n",
    "pre_post_all = []\n",
    "for timepoint in timepoints:\n",
    "    print 'Now analyzing timepoint: ', timepoint\n",
    "    # Identify postmerge wells and map to pre-merge wells\n",
    "    pre_post_all.append(kchip_analyze.map_pre_to_post(config,timepoint,pre_wells))\n",
    "    pre_post_all[-1].to_csv(timepoint+'.csv')\n",
    "\n",
    "# Condense output\n",
    "condensed = kchip_analyze.stack_timepoints(droplets,pre_post_all,timepoints)"
   ]
  },
  {
   "cell_type": "code",
   "execution_count": null,
   "metadata": {},
   "outputs": [],
   "source": [
    "# Save outputs\n",
    "droplets.to_csv('droplets.csv')\n",
    "condensed.to_csv('output.csv')"
   ]
  },
  {
   "cell_type": "markdown",
   "metadata": {},
   "source": [
    "## Quality control outputs"
   ]
  },
  {
   "cell_type": "markdown",
   "metadata": {},
   "source": [
    "### Chip loading and global well positions"
   ]
  },
  {
   "cell_type": "code",
   "execution_count": null,
   "metadata": {},
   "outputs": [],
   "source": [
    "well_positions = pre_post_all[-1].groupby('Hash').mean()[['Pre_GlobalX','Pre_GlobalY']].values\n",
    "edge = pre_post_all[-1].groupby('Hash').mean()['Pre_Edge'].values\n",
    "\n",
    "fig, axes = plt.subplots(figsize=(10,10))\n",
    "\n",
    "axes.plot(well_positions[:,0],-well_positions[:,1],'.',ms=2)\n",
    "axes.plot(well_positions[edge,0],-well_positions[edge,1],'.',ms=2)\n",
    "plt.axis('off');"
   ]
  },
  {
   "cell_type": "markdown",
   "metadata": {},
   "source": [
    "### Plot by total droplets in well"
   ]
  },
  {
   "cell_type": "code",
   "execution_count": null,
   "metadata": {},
   "outputs": [],
   "source": [
    "def plot_by_count(df,ax):\n",
    "    for item in df['Total'].unique():\n",
    "        pos = df[(df['Total']==item)][['Pre_GlobalX','Pre_GlobalY']].values\n",
    "        ax.plot(pos[:,0],-pos[:,1],'.',ms=2)\n",
    "    return ax\n",
    "\n",
    "fig, axes = plt.subplots(figsize=(10,10))\n",
    "        \n",
    "condensed[['Hash','Total','t2_Area']] \\\n",
    "    .merge(pre_post_all[-1][['Hash','Pre_GlobalX','Pre_GlobalY','Pre_Edge']],on='Hash') \\\n",
    "    .pipe(plot_by_count,ax=axes) \n",
    "    \n",
    "axes.legend(condensed['Total'].unique(),loc=2,bbox_to_anchor=(1.05,1))\n",
    "plt.axis('off');"
   ]
  },
  {
   "cell_type": "markdown",
   "metadata": {},
   "source": [
    "### Plot area over chip"
   ]
  },
  {
   "cell_type": "code",
   "execution_count": null,
   "metadata": {},
   "outputs": [],
   "source": [
    "from matplotlib import colors\n",
    "\n",
    "data = condensed[['Hash','Total','t2_Area']] \\\n",
    "    .merge(pre_post_all[-1][['Hash','Pre_GlobalX','Pre_GlobalY','Pre_Edge']],on='Hash') \n",
    "\n",
    "width = 1e1\n",
    "bins = np.arange(0,2e3,width)\n",
    "\n",
    "bin_by_area = pd.cut(data['t2_Area'],bins)\n",
    "bin_label = dict([(item,i) for i, item in enumerate(bin_by_area.unique().sort_values())])\n",
    "\n",
    "data['Area_Bin']=[bin_label[item] for item in bin_by_area]\n",
    "\n",
    "cmap = colors.LinearSegmentedColormap.from_list('', ['green','yellow','red','violet'],N=data['Area_Bin'].max())\n",
    "\n",
    "fig, axes = plt.subplots(1,2,figsize=(20,10))\n",
    "axes[0].scatter(data['Pre_GlobalX'],-data['Pre_GlobalY'],c=data['Area_Bin'],cmap=cmap,marker='.',s=10,alpha=1)\n",
    "axes[0].axis('off')\n",
    "\n",
    "invert_label = {v: k for k, v in bin_label.iteritems()}\n",
    "\n",
    "for label in invert_label.keys():\n",
    "    if invert_label[label]==invert_label[label]:\n",
    "        axes[1].bar(invert_label[label].mid,(data['Area_Bin']==label).sum(),width=width,color=cmap(label))\n",
    "\n",
    "axes[1].set_xlabel('Area')\n",
    "axes[1].set_ylabel('Count')"
   ]
  },
  {
   "cell_type": "markdown",
   "metadata": {},
   "source": [
    "### Representation"
   ]
  },
  {
   "cell_type": "code",
   "execution_count": null,
   "metadata": {},
   "outputs": [],
   "source": [
    "import seaborn as sns\n",
    "\n",
    "fig, ax = plt.subplots()\n",
    "\n",
    "p = sns.pointplot(data=droplets.groupby('Label').count().reset_index(),x='Label',y='RX',join=False)\n",
    "\n",
    "p.set_xticklabels(p.get_xticklabels(),rotation=90)\n",
    "p.set_ylim([0,droplets.groupby('Label').count()['RX'].max()*1.5]);\n",
    "p.set_ylabel('Count')\n",
    "p.set_title('Representation')"
   ]
  },
  {
   "cell_type": "markdown",
   "metadata": {},
   "source": [
    "### Histograms of GFP and Area values"
   ]
  },
  {
   "cell_type": "code",
   "execution_count": null,
   "metadata": {},
   "outputs": [],
   "source": [
    "timepoints = condensed.filter(regex='t\\d+(?!_)').columns.values\n",
    "\n",
    "fig, axes = plt.subplots(1,len(timepoints),figsize=(4*len(timepoints),4))\n",
    "\n",
    "bins = np.arange(0,1e4,1e2)\n",
    "\n",
    "for ax, t in zip(axes,timepoints):\n",
    "    ax.hist(condensed[t].dropna(),bins=bins)\n",
    "    ax.set_xlabel('GFP Fluorescence')\n",
    "    ax.set_ylabel('Counts')\n",
    "    ax.set_title('Signal at '+t)\n",
    "\n",
    "plt.tight_layout()"
   ]
  },
  {
   "cell_type": "code",
   "execution_count": null,
   "metadata": {},
   "outputs": [],
   "source": [
    "timepoints = condensed.filter(regex='t\\d+_Area').columns.values\n",
    "\n",
    "fig, axes = plt.subplots(1,len(timepoints),figsize=(4*len(timepoints),4))\n",
    "\n",
    "bins = np.arange(0,2e3,1e1)\n",
    "\n",
    "for ax, t in zip(axes,timepoints):\n",
    "    ax.hist(condensed[t].dropna(),bins=bins)\n",
    "    ax.set_xlabel('Area')\n",
    "    ax.set_ylabel('Counts')\n",
    "    ax.set_title('Area at '+t[:-5])\n",
    "\n",
    "plt.tight_layout()"
   ]
  },
  {
   "cell_type": "code",
   "execution_count": null,
   "metadata": {
    "collapsed": true
   },
   "outputs": [],
   "source": []
  }
 ],
 "metadata": {
  "kernelspec": {
   "display_name": "Python 2",
   "language": "python",
   "name": "python2"
  },
  "language_info": {
   "codemirror_mode": {
    "name": "ipython",
    "version": 2
   },
   "file_extension": ".py",
   "mimetype": "text/x-python",
   "name": "python",
   "nbconvert_exporter": "python",
   "pygments_lexer": "ipython2",
   "version": "2.7.16"
  },
  "toc": {
   "base_numbering": 1,
   "nav_menu": {},
   "number_sections": true,
   "sideBar": true,
   "skip_h1_title": false,
   "title_cell": "Table of Contents",
   "title_sidebar": "Contents",
   "toc_cell": false,
   "toc_position": {},
   "toc_section_display": true,
   "toc_window_display": false
  }
 },
 "nbformat": 4,
 "nbformat_minor": 2
}
